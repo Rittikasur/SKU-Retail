{
 "cells": [
  {
   "cell_type": "code",
   "execution_count": null,
   "metadata": {
    "id": "HeNxO_hMJbPc"
   },
   "outputs": [],
   "source": [
    "!pip install fuzzywuzzy"
   ]
  },
  {
   "cell_type": "code",
   "execution_count": 3,
   "metadata": {
    "colab": {
     "base_uri": "https://localhost:8080/"
    },
    "id": "RNXJDCDvJ-4o",
    "outputId": "b27b9ae0-e3bc-469a-e108-3f59edad65ec"
   },
   "outputs": [
    {
     "name": "stdout",
     "output_type": "stream",
     "text": [
      "   itemcode                        itemdesc  catcode              category  \\\n",
      "0     10001  ELEPHANT APPLE SODA-PET 500 ML        2  SOFT DRINKS-SRILANKA   \n",
      "1     10005          CAMEL ASTO-PET 1500 ML        2  SOFT DRINKS-SRILANKA   \n",
      "2     10006           CAMEL ASTO-PET 400 ML        2  SOFT DRINKS-SRILANKA   \n",
      "3     10007           CAMEL ASTO-PET 750 ML        2  SOFT DRINKS-SRILANKA   \n",
      "4     10008       ELEPHANT NECTO-CAN 330 ML        2  SOFT DRINKS-SRILANKA   \n",
      "\n",
      "                       company                brand packaging         flavor  \\\n",
      "0           CEYLON COLD STORES  ELEPHANT APPLE SODA       PET     APPLE SODA   \n",
      "1  ARTINAT CORDIALS INDUSTRIES           CAMEL ASTO       PET  BLACK CURRANT   \n",
      "2  ARTINAT CORDIALS INDUSTRIES           CAMEL ASTO       PET  BLACK CURRANT   \n",
      "3  ARTINAT CORDIALS INDUSTRIES           CAMEL ASTO       PET  BLACK CURRANT   \n",
      "4           CEYLON COLD STORES       ELEPHANT NECTO       CAN  BLACK CURRANT   \n",
      "\n",
      "           color     qty uomdesc   pack_size  launchdate  \n",
      "0     APPLE SODA   500.0      ML   500.00 ML    200802.0  \n",
      "1  BLACK CURRANT  1500.0      ML  1500.00 ML    202007.0  \n",
      "2  BLACK CURRANT   400.0      ML   400.00 ML    201708.0  \n",
      "3  BLACK CURRANT   750.0      ML   750.00 ML    202007.0  \n",
      "4  BLACK CURRANT   330.0      ML   330.00 ML    201604.0  \n",
      "   PERIOD  AUDITTYPE  STORECODE      DLRCODE       ITEMCODE  CATEGORY  \\\n",
      "0  202410          1  120547179  10946010003  1730008019565        14   \n",
      "1  202410          1  133670987  19354010001  1729584139818        12   \n",
      "2  202410          1  133670987  19354010001  1729584017998        12   \n",
      "3  202410          1   53951366  10006010001  1729575545353        26   \n",
      "4  202410          1   53951366  10006010001  1729572854804        10   \n",
      "\n",
      "                    MANUFACTURE      BRAND  \\\n",
      "0  SMITHKLINE BEECHAM (PVT) LTD  SENSODYNE   \n",
      "1         IDEA AFFIX MARKETING    IDEA TEA   \n",
      "2         IDEA AFFIX MARKETING    IDEA TEA   \n",
      "3        UNILEVER SRI LANKA LTD    SUNSILK   \n",
      "4           FREELAN ENTERPRISES    FREELAN   \n",
      "\n",
      "                                            ITEMDESC  MRP PACKSIZE PACKTYPE  \\\n",
      "0                      SENSODYNE SOFT 1 NO SAVE 95/=  195     1 NO    BRUSH   \n",
      "1                             IDEA TEA/ PLPCH/ 100GM  290    100GM    PLPCH   \n",
      "2                             IDEA TEA /PLPCH /50GM   155     50GM    PLPCH   \n",
      "3  SUNSILK NOURISHING SOFT & SMOOTH SHAMPOO WITH ...  340    80 ML    PLBOT   \n",
      "4       FREELAN MALDIVE FISH FLAVOUR 70 GM SAVE 10/=  150    70 GM    PLPCH   \n",
      "\n",
      "  COMMENTS                                              IMAGE Status  \\\n",
      "0      NaN  1730008019565-smithkline beecham -pvt- ltd-sen...      -   \n",
      "1      NaN  1729584139818-idea affix marketing -idea tea#3...      -   \n",
      "2      NaN  1729584017998-idea affix marketing -idea tea#3...      -   \n",
      "3      NaN  1729575545353-unilever sri lanka ltd-sunsilk#3...  63972   \n",
      "4      NaN    1729572854804-freelan enterprises-freelan#3.png  34284   \n",
      "\n",
      "  Master IC  Unnamed: 16  Unnamed: 17  Unnamed: 18  \n",
      "0     63964          NaN          NaN          NaN  \n",
      "1         -          NaN          NaN          NaN  \n",
      "2         -          NaN          NaN          NaN  \n",
      "3     63972      48497.0      49103.0      54093.0  \n",
      "4       NaN          NaN          NaN          NaN  \n"
     ]
    }
   ],
   "source": [
    "import pandas as pd\n",
    "\n",
    "master = pd.read_csv('master.csv',encoding='windows-1252')\n",
    "data1 = pd.read_csv('data-new-items-202410.csv',encoding='windows-1252')\n",
    "#data2 = pd.read_csv('/content/data-new-items-202501.csv',encoding='windows-1252')\n",
    "\n",
    "print(master.head())\n",
    "print(data1.head())\n",
    "#print(data2.head())"
   ]
  },
  {
   "cell_type": "code",
   "execution_count": 4,
   "metadata": {
    "colab": {
     "base_uri": "https://localhost:8080/"
    },
    "id": "gaKPmYcOkinC",
    "outputId": "0306d6ce-4b71-4fdf-cd1a-2bebd4a1ce59"
   },
   "outputs": [
    {
     "name": "stdout",
     "output_type": "stream",
     "text": [
      "Index(['itemcode', 'itemdesc', 'catcode', 'category', 'company', 'brand',\n",
      "       'packaging', 'flavor', 'color', 'qty', 'uomdesc', 'pack_size',\n",
      "       'launchdate'],\n",
      "      dtype='object')\n",
      "Index(['PERIOD', 'AUDITTYPE', 'STORECODE', 'DLRCODE', 'ITEMCODE', 'CATEGORY',\n",
      "       'MANUFACTURE', 'BRAND', 'ITEMDESC', 'MRP', 'PACKSIZE', 'PACKTYPE',\n",
      "       'COMMENTS', 'IMAGE', 'Status', 'Master IC', 'Unnamed: 16',\n",
      "       'Unnamed: 17', 'Unnamed: 18'],\n",
      "      dtype='object')\n"
     ]
    }
   ],
   "source": [
    "print(master.columns)\n",
    "print(data1.columns)\n",
    "#print(data2.columns)"
   ]
  },
  {
   "cell_type": "code",
   "execution_count": 5,
   "metadata": {
    "id": "VHvtuLw6qaII"
   },
   "outputs": [],
   "source": [
    "data1.columns = [x.lower() for x in data1.columns]\n",
    "#data2.columns = [x.lower() for x in data2.columns]\n",
    "data1 = data1.astype(object)\n",
    "#data2 = data2.astype(object)\n",
    "master = master.astype(object)\n",
    "master.rename(columns={'pack_size':'packsize'},inplace=True)\n",
    "master.rename(columns={'company':'manufacture'},inplace=True)\n",
    "master['qty'] = master['qty'].astype(int)\n",
    "master['qty'] = master['qty'].astype(str)\n",
    "master['packsize'] = master['qty']  + master['uomdesc']\n",
    "master.rename(columns={'packaging':'packtype'},inplace=True)\n",
    "master['category'] = master['catcode']"
   ]
  },
  {
   "cell_type": "code",
   "execution_count": null,
   "metadata": {
    "colab": {
     "base_uri": "https://localhost:8080/"
    },
    "id": "eV5zY_X3QBLe",
    "outputId": "68b81827-b286-4ba7-bb74-f85037982a74"
   },
   "outputs": [
    {
     "name": "stderr",
     "output_type": "stream",
     "text": [
      "C:\\Users\\datacore\\anaconda3\\lib\\site-packages\\fuzzywuzzy\\fuzz.py:11: UserWarning: Using slow pure-python SequenceMatcher. Install python-Levenshtein to remove this warning\n",
      "  warnings.warn('Using slow pure-python SequenceMatcher. Install python-Levenshtein to remove this warning')\n"
     ]
    },
    {
     "name": "stdout",
     "output_type": "stream",
     "text": [
      "['brand', 'packtype', 'itemdesc', 'category', 'manufacture', 'packsize']\n",
      "Processing row 1/1038\n",
      "Processing row 2/1038\n"
     ]
    }
   ],
   "source": [
    "import pandas as pd\n",
    "from fuzzywuzzy import fuzz\n",
    "\n",
    "def edit_distance(s1, s2):\n",
    "    s1 = str(s1).lower()\n",
    "    s2 = str(s2).lower()\n",
    "    try:\n",
    "      s1 = float(s1)\n",
    "      s2 = float(s2)\n",
    "      return int(s1 == s2)\n",
    "    except:\n",
    "      s1 = str(s1)\n",
    "      s2 = str(s2)\n",
    "    if \" \" in s1 and \" \" in s2:\n",
    "        arr1 = s1.split(\" \")\n",
    "        arr2 = s2.split(\" \")\n",
    "        res = 0\n",
    "        for w1 in arr1:\n",
    "          max = 0\n",
    "          for w2 in arr2:\n",
    "            temp = fuzz.ratio(w1,w2)\n",
    "            if temp > max:\n",
    "              max = temp\n",
    "          res = (res + max) / 2\n",
    "        return res\n",
    "\n",
    "    return fuzz.ratio(s1, s2)\n",
    "\n",
    "def compare_columns(df1, df2, common_cols):\n",
    "    result_df = pd.DataFrame()\n",
    "\n",
    "    for i, row2 in enumerate(df2.values):\n",
    "        if i == 2900:\n",
    "          break\n",
    "        print(f\"Processing row {i+1}/{len(df2)}\")\n",
    "        similarity_scores = []\n",
    "        for j, row1 in enumerate(df1.values):\n",
    "            row_similarity = sum([edit_distance(row1[df1.columns.get_loc(col)], row2[df2.columns.get_loc(col)]) for col in common_cols]) / len(common_cols)\n",
    "            similarity_scores.append((row1, row_similarity))\n",
    "\n",
    "        best_match_row, best_similarity = max(similarity_scores, key=lambda x: x[1])\n",
    "\n",
    "        # Create a combined row as a dictionary\n",
    "        combined_row = {}\n",
    "        for col in df1.columns:\n",
    "            combined_row[col if col not in df2.columns else f\"{col}_df1\"] = best_match_row[df1.columns.get_loc(col)]\n",
    "        for col in df2.columns:\n",
    "            combined_row[col if col not in df1.columns else f\"{col}_df2\"] = row2[df2.columns.get_loc(col)]\n",
    "\n",
    "        combined_row['similarity'] = best_similarity\n",
    "\n",
    "        result_df = pd.concat([result_df, pd.DataFrame([combined_row])], ignore_index=True)\n",
    "\n",
    "\n",
    "    return result_df\n",
    "\n",
    "# Assuming 'data1' and 'data2' are your DataFrames\n",
    "common_cols = list(set(master.columns) & set(data1.columns))\n",
    "common_cols.remove('itemcode')\n",
    "print(common_cols)\n",
    "\n",
    "\n",
    "# Call the modified compare_columns function\n",
    "merged_df = compare_columns(master, data1, common_cols)\n",
    "\n",
    "print(merged_df)\n",
    "merged_df.to_csv('/content/data1.csv', index=False)"
   ]
  },
  {
   "cell_type": "code",
   "execution_count": 1,
   "metadata": {
    "colab": {
     "base_uri": "https://localhost:8080/"
    },
    "id": "EOrBhZVH7I_N",
    "outputId": "9e1ba3f9-e631-4466-a844-78ac01be3b50"
   },
   "outputs": [
    {
     "name": "stdout",
     "output_type": "stream",
     "text": [
      "Requirement already satisfied: fuzzywuzzy in c:\\users\\datacore\\anaconda3\\lib\\site-packages (0.18.0)\n"
     ]
    },
    {
     "name": "stderr",
     "output_type": "stream",
     "text": [
      "WARNING: Ignoring invalid distribution -illow (c:\\users\\datacore\\anaconda3\\lib\\site-packages)\n",
      "WARNING: Ignoring invalid distribution -illow (c:\\users\\datacore\\anaconda3\\lib\\site-packages)\n",
      "WARNING: Ignoring invalid distribution -illow (c:\\users\\datacore\\anaconda3\\lib\\site-packages)\n",
      "WARNING: Ignoring invalid distribution -illow (c:\\users\\datacore\\anaconda3\\lib\\site-packages)\n",
      "WARNING: Ignoring invalid distribution -illow (c:\\users\\datacore\\anaconda3\\lib\\site-packages)\n",
      "WARNING: Ignoring invalid distribution -illow (c:\\users\\datacore\\anaconda3\\lib\\site-packages)\n"
     ]
    }
   ],
   "source": []
  },
  {
   "cell_type": "code",
   "execution_count": null,
   "metadata": {
    "id": "KxiMeSu2dxd7"
   },
   "outputs": [],
   "source": []
  }
 ],
 "metadata": {
  "colab": {
   "provenance": []
  },
  "kernelspec": {
   "display_name": "Python 3 (ipykernel)",
   "language": "python",
   "name": "python3"
  },
  "language_info": {
   "codemirror_mode": {
    "name": "ipython",
    "version": 3
   },
   "file_extension": ".py",
   "mimetype": "text/x-python",
   "name": "python",
   "nbconvert_exporter": "python",
   "pygments_lexer": "ipython3",
   "version": "3.10.9"
  }
 },
 "nbformat": 4,
 "nbformat_minor": 1
}
